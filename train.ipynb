{
 "cells": [
  {
   "cell_type": "code",
   "execution_count": 1,
   "metadata": {},
   "outputs": [
    {
     "name": "stderr",
     "output_type": "stream",
     "text": [
      "c:\\Users\\User\\Desktop\\food_search_engine\\.venv\\Lib\\site-packages\\tqdm\\auto.py:21: TqdmWarning: IProgress not found. Please update jupyter and ipywidgets. See https://ipywidgets.readthedocs.io/en/stable/user_install.html\n",
      "  from .autonotebook import tqdm as notebook_tqdm\n"
     ]
    },
    {
     "data": {
      "text/plain": [
       "[(1,\n",
       "  'Takoyaki. A Japanese snack made of wheat flour-based batter and typically filled with minced or diced octopus.',\n",
       "  None),\n",
       " (2,\n",
       "  'Waffle. A dish made from leavened batter or dough that is cooked between two plates that are patterned to give a characteristic size, shape, and surface impression.',\n",
       "  None),\n",
       " (3,\n",
       "  'Toast. Slices of bread browned on both sides, often served with butter or spreads.',\n",
       "  None),\n",
       " (4,\n",
       "  'Kaya Ball. Small pastry balls filled with kaya, a sweet coconut jam made from coconut milk, eggs, and sugar.',\n",
       "  None),\n",
       " (5,\n",
       "  'Chicken Satay. Skewers of seasoned, grilled chicken, often served with peanut sauce.',\n",
       "  None)]"
      ]
     },
     "execution_count": 1,
     "metadata": {},
     "output_type": "execute_result"
    }
   ],
   "source": [
    "from txtai.pipeline import Tabular\n",
    "from txtai.workflow import Task, Workflow\n",
    "\n",
    "# Create tabular instance mapping input.csv fields\n",
    "tabular = Tabular(\"id\",[\"menu\",\"description\"])\n",
    "\n",
    "# Create workflow\n",
    "workflow = Workflow([Task(tabular)])\n",
    "\n",
    "# Print 5 rows of input.csv via workflow\n",
    "list(workflow([\"food_data.csv\"]))[:5]"
   ]
  },
  {
   "cell_type": "code",
   "execution_count": 2,
   "metadata": {},
   "outputs": [
    {
     "name": "stdout",
     "output_type": "stream",
     "text": [
      "{'id': '111', 'description': 'A sour plum drink.', 'price': 2.5, 'college': 5}\n",
      "{'id': '126', 'description': 'A sour plum drink.', 'price': 2.5, 'college': 11}\n",
      "{'id': '117', 'description': 'A drink made with rose syrup and milk.', 'price': 2.0, 'college': 11}\n"
     ]
    }
   ],
   "source": [
    "from txtai.embeddings import Embeddings\n",
    "import os\n",
    "os.environ[\"KMP_DUPLICATE_LIB_OK\"] = \"True\"\n",
    "# Create tabular instance mapping input.csv fields\n",
    "tabular = Tabular(\"id\", [\"menu\",\"description\"],True)\n",
    "\n",
    "# Create workflow\n",
    "workflow = Workflow([Task(tabular)])\n",
    "\n",
    "# Embeddings with sentence-transformers backend\n",
    "embeddings = Embeddings({\"method\": \"transformers\", \"path\": \"sentence-transformers/paraphrase-mpnet-base-v2\", \"content\": True})\n",
    "\n",
    "# Index subset of CORD-19 data\n",
    "data = list(workflow([\"food_data.csv\"]))\n",
    "embeddings.index(data)\n",
    "embeddings.save(\"embeddings.tar.gz\")\n",
    "\n",
    "for result in embeddings.search(\"select id, description, price, college from txtai where similar('sweet')\"):\n",
    "  print(result)"
   ]
  }
 ],
 "metadata": {
  "kernelspec": {
   "display_name": ".venv",
   "language": "python",
   "name": "python3"
  },
  "language_info": {
   "codemirror_mode": {
    "name": "ipython",
    "version": 3
   },
   "file_extension": ".py",
   "mimetype": "text/x-python",
   "name": "python",
   "nbconvert_exporter": "python",
   "pygments_lexer": "ipython3",
   "version": "3.11.2"
  }
 },
 "nbformat": 4,
 "nbformat_minor": 2
}
